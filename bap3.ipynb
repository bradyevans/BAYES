{
 "cells": [
  {
   "cell_type": "code",
   "execution_count": null,
   "metadata": {},
   "outputs": [],
   "source": []
  },
  {
   "cell_type": "code",
   "execution_count": 11,
   "metadata": {},
   "outputs": [
    {
     "data": {
      "text/plain": [
       "array([1, 0, 0, 0], dtype=int64)"
      ]
     },
     "execution_count": 11,
     "metadata": {},
     "output_type": "execute_result"
    }
   ],
   "source": [
    "import arviz as az\n",
    "import matplotlib.pyplot as plt\n",
    "import numpy as np\n",
    "import pandas as pd\n",
    "import pymc as pm\n",
    "import preliz as pz\n",
    "\n",
    "np.random.seed(123)\n",
    "trials = 4\n",
    "theta_real = 0.35 # unknown value in a real experiment\n",
    "data = pz.Binomial(n=1, p=theta_real).rvs(trials)\n",
    "data"
   ]
  },
  {
   "cell_type": "code",
   "execution_count": 17,
   "metadata": {},
   "outputs": [
    {
     "data": {
      "text/plain": [
       "array([1, 0, 0, 0])"
      ]
     },
     "execution_count": 17,
     "metadata": {},
     "output_type": "execute_result"
    }
   ],
   "source": [
    "np.random.seed(123)\n",
    "trials = 4\n",
    "theta_real = 0.35 # unknown value in a real experiment\n",
    "data = np.random.binomial(n=1, p=theta_real, size=trials)\n",
    "data"
   ]
  },
  {
   "cell_type": "code",
   "execution_count": 13,
   "metadata": {},
   "outputs": [
    {
     "name": "stdout",
     "output_type": "stream",
     "text": [
      "Trials: [0, 1, 2, 3, 4, 8, 16, 32, 50, 150]\n",
      "Heads: [0, 0, 0, 1, 1, 3, 8, 13, 18, 56]\n"
     ]
    }
   ],
   "source": [
    "import numpy as np\n",
    "\n",
    "# True probability of heads\n",
    "theta_real = 0.35\n",
    "\n",
    "# Define the number of trials in each experiment\n",
    "n_trials = [0, 1, 2, 3, 4, 8, 16, 32, 50, 150]\n",
    "\n",
    "# Generate the number of heads in each set of trials\n",
    "n_heads = [np.random.binomial(n, theta_real) for n in n_trials]\n",
    "\n",
    "print(\"Trials:\", n_trials)\n",
    "print(\"Heads:\", n_heads)"
   ]
  }
 ],
 "metadata": {
  "kernelspec": {
   "display_name": "bap3",
   "language": "python",
   "name": "python3"
  },
  "language_info": {
   "codemirror_mode": {
    "name": "ipython",
    "version": 3
   },
   "file_extension": ".py",
   "mimetype": "text/x-python",
   "name": "python",
   "nbconvert_exporter": "python",
   "pygments_lexer": "ipython3",
   "version": "3.11.6"
  }
 },
 "nbformat": 4,
 "nbformat_minor": 2
}
